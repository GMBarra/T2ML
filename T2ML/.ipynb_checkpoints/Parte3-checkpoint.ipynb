{
 "cells": [
  {
   "cell_type": "markdown",
   "metadata": {},
   "source": [
    "### 3. Análisis de emociones en tweets\n",
    "\n",
    "#### IMPORTANTE: Para facilitar la lectura, a partir de aquí los resultados y observaciones estarán justo después del enunciado, y luego la ejecución del código."
   ]
  },
  {
   "cell_type": "code",
   "execution_count": 6,
   "metadata": {},
   "outputs": [
    {
     "name": "stdout",
     "output_type": "stream",
     "text": [
      "[nltk_data] Downloading package wordnet to /Users/nano/nltk_data...\n",
      "[nltk_data]   Package wordnet is already up-to-date!\n"
     ]
    }
   ],
   "source": [
    "import nltk\n",
    "nltk.download('wordnet')\n",
    "from nltk.corpus import stopwords\n",
    "from nltk.stem import WordNetLemmatizer\n",
    "import pandas as pd\n",
    "import matplotlib.pyplot as plt\n",
    "import numpy as np\n",
    "import preprocessor as p\n",
    "import string\n",
    "from sklearn.discriminant_analysis import LinearDiscriminantAnalysis as LDA\n",
    "from sklearn.discriminant_analysis import QuadraticDiscriminantAnalysis as QDA\n",
    "from sklearn.svm import SVC as SVM\n",
    "from sklearn.tree import DecisionTreeClassifier as Tree\n",
    "from sklearn.model_selection import train_test_split\n",
    "from sklearn.feature_extraction.text import TfidfVectorizer\n",
    "from sklearn.linear_model import LogisticRegression as LR\n",
    "from sklearn.metrics import accuracy_score\n",
    "from sklearn.decomposition import PCA\n",
    "from sklearn.metrics import classification_report\n",
    "from sklearn.neighbors import KNeighborsClassifier\n",
    "from sklearn.naive_bayes import BernoulliNB\n",
    "from sklearn.multiclass import OneVsRestClassifier\n",
    "from sklearn.multiclass import OneVsOneClassifier"
   ]
  },
  {
   "cell_type": "markdown",
   "metadata": {},
   "source": [
    "#### (a) Construya un dataframe con los datos a analizar. Determine cuántas clases existen, cuántos registros por clase y describa el dataset."
   ]
  },
  {
   "cell_type": "markdown",
   "metadata": {},
   "source": [
    "#### Respuesta\n",
    "\n",
    "* 4000 tweets con 4 atributos\n",
    "    * \"tweet_id\" representa el id (asignado por tweeter) que se le da a cierto comentario/publicación creado por cierto autor\n",
    "    * \"sentiment\" es el sentimiento (etiqueta o label) que se le asigno previamente a cierto comentario/publicación, el cual puede ser neutral, worry, happiness, sadness, love, surpirse, fun, relief, hate, empty, enthusiasm, boredom o anger\n",
    "    * \"author\" es el author del comentario/publicación\n",
    "    * \"content\" es el comentario/publicación de cierto autor\n",
    "\n",
    "Las etiquetas posibles son las correspondientes al atributo \"sentiment\". La cantidad y sus nombres se describen a continuación:\n",
    "\n",
    "    neutral       8638\n",
    "    worry         8459\n",
    "    happiness     5209\n",
    "    sadness       5165\n",
    "    love          3842\n",
    "    surprise      2187\n",
    "    fun           1776\n",
    "    relief        1526\n",
    "    hate          1323\n",
    "    empty          827\n",
    "    enthusiasm     759\n",
    "    boredom        179\n",
    "    anger          110"
   ]
  },
  {
   "cell_type": "code",
   "execution_count": 7,
   "metadata": {},
   "outputs": [
    {
     "name": "stdout",
     "output_type": "stream",
     "text": [
      "<class 'pandas.core.frame.DataFrame'>\n",
      "RangeIndex: 40000 entries, 0 to 39999\n",
      "Data columns (total 4 columns):\n",
      "tweet_id     40000 non-null int64\n",
      "sentiment    40000 non-null object\n",
      "author       40000 non-null object\n",
      "content      40000 non-null object\n",
      "dtypes: int64(1), object(3)\n",
      "memory usage: 1.2+ MB\n"
     ]
    }
   ],
   "source": [
    "df = pd.read_csv('./text_emotion.csv')\n",
    "df.info()"
   ]
  },
  {
   "cell_type": "code",
   "execution_count": 8,
   "metadata": {},
   "outputs": [
    {
     "data": {
      "text/html": [
       "<div>\n",
       "<style>\n",
       "    .dataframe thead tr:only-child th {\n",
       "        text-align: right;\n",
       "    }\n",
       "\n",
       "    .dataframe thead th {\n",
       "        text-align: left;\n",
       "    }\n",
       "\n",
       "    .dataframe tbody tr th {\n",
       "        vertical-align: top;\n",
       "    }\n",
       "</style>\n",
       "<table border=\"1\" class=\"dataframe\">\n",
       "  <thead>\n",
       "    <tr style=\"text-align: right;\">\n",
       "      <th></th>\n",
       "      <th>tweet_id</th>\n",
       "      <th>sentiment</th>\n",
       "      <th>author</th>\n",
       "      <th>content</th>\n",
       "    </tr>\n",
       "  </thead>\n",
       "  <tbody>\n",
       "    <tr>\n",
       "      <th>0</th>\n",
       "      <td>1956967341</td>\n",
       "      <td>empty</td>\n",
       "      <td>xoshayzers</td>\n",
       "      <td>@tiffanylue i know  i was listenin to bad habi...</td>\n",
       "    </tr>\n",
       "    <tr>\n",
       "      <th>1</th>\n",
       "      <td>1956967666</td>\n",
       "      <td>sadness</td>\n",
       "      <td>wannamama</td>\n",
       "      <td>Layin n bed with a headache  ughhhh...waitin o...</td>\n",
       "    </tr>\n",
       "    <tr>\n",
       "      <th>2</th>\n",
       "      <td>1956967696</td>\n",
       "      <td>sadness</td>\n",
       "      <td>coolfunky</td>\n",
       "      <td>Funeral ceremony...gloomy friday...</td>\n",
       "    </tr>\n",
       "    <tr>\n",
       "      <th>3</th>\n",
       "      <td>1956967789</td>\n",
       "      <td>enthusiasm</td>\n",
       "      <td>czareaquino</td>\n",
       "      <td>wants to hang out with friends SOON!</td>\n",
       "    </tr>\n",
       "    <tr>\n",
       "      <th>4</th>\n",
       "      <td>1956968416</td>\n",
       "      <td>neutral</td>\n",
       "      <td>xkilljoyx</td>\n",
       "      <td>@dannycastillo We want to trade with someone w...</td>\n",
       "    </tr>\n",
       "  </tbody>\n",
       "</table>\n",
       "</div>"
      ],
      "text/plain": [
       "     tweet_id   sentiment       author  \\\n",
       "0  1956967341       empty   xoshayzers   \n",
       "1  1956967666     sadness    wannamama   \n",
       "2  1956967696     sadness    coolfunky   \n",
       "3  1956967789  enthusiasm  czareaquino   \n",
       "4  1956968416     neutral    xkilljoyx   \n",
       "\n",
       "                                             content  \n",
       "0  @tiffanylue i know  i was listenin to bad habi...  \n",
       "1  Layin n bed with a headache  ughhhh...waitin o...  \n",
       "2                Funeral ceremony...gloomy friday...  \n",
       "3               wants to hang out with friends SOON!  \n",
       "4  @dannycastillo We want to trade with someone w...  "
      ]
     },
     "execution_count": 8,
     "metadata": {},
     "output_type": "execute_result"
    }
   ],
   "source": [
    "df.head()"
   ]
  },
  {
   "cell_type": "code",
   "execution_count": 9,
   "metadata": {},
   "outputs": [
    {
     "data": {
      "text/plain": [
       "neutral       8638\n",
       "worry         8459\n",
       "happiness     5209\n",
       "sadness       5165\n",
       "love          3842\n",
       "surprise      2187\n",
       "fun           1776\n",
       "relief        1526\n",
       "hate          1323\n",
       "empty          827\n",
       "enthusiasm     759\n",
       "boredom        179\n",
       "anger          110\n",
       "Name: sentiment, dtype: int64"
      ]
     },
     "execution_count": 9,
     "metadata": {},
     "output_type": "execute_result"
    }
   ],
   "source": [
    "df['sentiment'].value_counts()"
   ]
  },
  {
   "cell_type": "code",
   "execution_count": 10,
   "metadata": {},
   "outputs": [
    {
     "data": {
      "image/png": "[encoded data removed]",
      "text/plain": [
       "<matplotlib.figure.Figure at 0x1a1307c198>"
      ]
     },
     "metadata": {},
     "output_type": "display_data"
    }
   ],
   "source": [
    "df['sentiment'].hist(bins=25, figsize=(22,16), grid=False)\n",
    "plt.show()"
   ]
  },
  {
   "cell_type": "markdown",
   "metadata": {},
   "source": [
    "#### (b) Construya un conjunto de entrenamiento y otro de pruebas, a través de una máscara aleatoria, para verificar los resultados de los algoritmos."
   ]
  },
  {
   "cell_type": "markdown",
   "metadata": {},
   "source": [
    "#### Obsrvación\n",
    "\n",
    "Esta división se puede justificar mediante el \"Principio de Pareto\", que afirma que el 20% de un suceso es justificado por el 80% restante, sin embargo al ser una cantidad tan abundante de datos, podría haberse usado de igual forma una proporción 90/10, sin afectar el proceso de entrenamiento ni el de pruebas."
   ]
  },
  {
   "cell_type": "code",
   "execution_count": 11,
   "metadata": {},
   "outputs": [
    {
     "name": "stdout",
     "output_type": "stream",
     "text": [
      "<class 'pandas.core.frame.DataFrame'>\n",
      "Int64Index: 31944 entries, 0 to 39999\n",
      "Data columns (total 4 columns):\n",
      "tweet_id     31944 non-null int64\n",
      "sentiment    31944 non-null object\n",
      "author       31944 non-null object\n",
      "content      31944 non-null object\n",
      "dtypes: int64(1), object(3)\n",
      "memory usage: 1.2+ MB\n",
      "<class 'pandas.core.frame.DataFrame'>\n",
      "Int64Index: 8056 entries, 5 to 39996\n",
      "Data columns (total 4 columns):\n",
      "tweet_id     8056 non-null int64\n",
      "sentiment    8056 non-null object\n",
      "author       8056 non-null object\n",
      "content      8056 non-null object\n",
      "dtypes: int64(1), object(3)\n",
      "memory usage: 314.7+ KB\n"
     ]
    }
   ],
   "source": [
    "msk = np.random.rand(len(df)) < 0.8\n",
    "df_train = df[msk]\n",
    "df_test = df[~msk]\n",
    "df_train.info()\n",
    "df_test.info()"
   ]
  },
  {
   "cell_type": "markdown",
   "metadata": {},
   "source": [
    "#### (c) Implemente y explique un pre-procesamiento para los tweets para dejarlos en un formato estándarizado en el cual se podrán trabajar."
   ]
  },
  {
   "cell_type": "markdown",
   "metadata": {},
   "source": [
    "#### Observación\n",
    "\n",
    "Se eliminan URL, menciones, hashtags, palabras reservadas(RT y FAV), números, puntuación, se lematizó y se puso en minúsculas. <b>Se mantienen emojis y emoticones</b>, debido a que pueden entregar información de emociones de forma mas certera."
   ]
  },
  {
   "cell_type": "code",
   "execution_count": 12,
   "metadata": {
    "collapsed": true
   },
   "outputs": [],
   "source": [
    "def preprocess(df):\n",
    "    stop_words = set(stopwords.words('english'))\n",
    "    lemmatizer = WordNetLemmatizer()\n",
    "    tweets = df['content']\n",
    "    translator = str.maketrans('', '', string.punctuation)\n",
    "    if ('tweet_id' or \"author\") in df:\n",
    "        df.drop(['tweet_id','author'],axis=1,inplace=True) #Eliminacion de Datos Inecesarios que no aportar informacion relevante\n",
    "    for ti in range(df.shape[0]):\n",
    "        p.set_options(p.OPT.URL, p.OPT.MENTION, p.OPT.HASHTAG, p.OPT.RESERVED, p.OPT.NUMBER)\n",
    "        tweets[ti] = tweets[ti].translate(translator)\n",
    "        tweets[ti] = p.clean(tweets[ti])\n",
    "        tweets[ti] = tweets[ti].lower()\n",
    "        tweets[ti] = [i for i in tweets[ti].lower().split() if i not in stop_words]\n",
    "        for wi in range(len(tweets[ti])):\n",
    "            tweets[ti][wi] = lemmatizer.lemmatize(tweets[ti][wi])\n",
    "        tweets[ti] = \" \".join(tweets[ti])\n",
    "    return tweets\n",
    "df['content'] = preprocess(df)\n"
   ]
  },
  {
   "cell_type": "markdown",
   "metadata": {},
   "source": [
    "#### (d) Haga una reducción binaria al problema, para trabajarlo como un problema de clasificación de dos clases. Para esto, agrupe las distintas emociones como positivas y negativas (defina un criterio), se recomienda codificar las clases como +1 y −1 respectivamente. Recuerde tener presente que el desbalanceo de los datos puede afectar considerablemente al modelo.\n",
    "\n",
    "#### Comentario\n",
    "\n",
    "Se observa que la diferencia de cantidad entre una clase y otra es de 764, lo cual es suficiente para clasificar correctamente sin problemas de baja representación por diferencia de cantidad de ejemplos.\n",
    "\n",
    "    neutral       0\n",
    "    worry         -1\n",
    "    happiness     +1\n",
    "    sadness       -1\n",
    "    love          +1\n",
    "    surprise      +1\n",
    "    fun           +1\n",
    "    relief        +1\n",
    "    hate          -1\n",
    "    empty         -1\n",
    "    enthusiasm    +1\n",
    "    boredom       -1\n",
    "    anger         -1\n"
   ]
  },
  {
   "cell_type": "code",
   "execution_count": 13,
   "metadata": {},
   "outputs": [
    {
     "data": {
      "text/plain": [
       "-1    16063\n",
       " 1    15299\n",
       "Name: sentiment, dtype: int64"
      ]
     },
     "execution_count": 13,
     "metadata": {},
     "output_type": "execute_result"
    }
   ],
   "source": [
    "mapping = {\"happiness\": 1,\"love\": 1,\"surprise\": 1,\"fun\": 1,\"relief\": 1,\"enthusiasm\": 1,'worry':-1,'sadness':-1,'hate':-1,'empty':-1,'boredom':-1,'anger':-1,'neutral':0}\n",
    "df_binary = df.replace({'sentiment': mapping})\n",
    "df_binary = df_binary[df_binary.sentiment != 0]\n",
    "df_binary['sentiment'].value_counts()"
   ]
  },
  {
   "cell_type": "markdown",
   "metadata": {},
   "source": [
    "#### (e) Para construir un clasificador que determine automáticamente la polaridad de un trozo de texto, será necesario representar los tweets {ti}_n_i=1 disponibles como vectores de características (features). El tipo de características más utilizado consiste en contar cuántas veces aparecen ciertos términos/palabras en el texto. Para esto, es necesario un vocabulario que, por lo general, se construye mediante la unión de todas las palabras que se observen en los tweets. Se recomienda utilizar las librerías ofrecidas por sklearn de feature extraction in text [12] (CountVectorizer y TfidfVectorizer ). Recuerde realizar el ajuste (fit) únicamente con el conjunto de entrenamiento, para luego transformar el conjunto de pruebas (con el método transform)."
   ]
  },
  {
   "cell_type": "markdown",
   "metadata": {},
   "source": [
    "#### Comentario\n",
    "\n",
    "El código anterior genera una matriz que contiene en las columnas booleanos que dicen si un tweet tiene o no la palabra. Este el método estandar de representación de texto plano.\n",
    "\n",
    "Se puede ver que se hizo uso de PCA para reducir la alta dimensionalidad del problema asociado a la cantidad de palabras posibles que pueden surgir en miles de tweets. Por temas de tiempo de ejecución, este valor se fijó en 5."
   ]
  },
  {
   "cell_type": "code",
   "execution_count": 14,
   "metadata": {
    "collapsed": true
   },
   "outputs": [],
   "source": [
    "X = df_binary['content'].values\n",
    "y = df_binary['sentiment'].values\n",
    "X_train_binary, X_test_binary, y_train_binary, y_test_binary = train_test_split(X, y,test_size=0.20, random_state=42)\n",
    "\n",
    "frecuencia_terminos = TfidfVectorizer(lowercase=True)\n",
    "X_train_binary_vec = frecuencia_terminos.fit_transform(X_train_binary).toarray()\n",
    "X_test_binary_vec = frecuencia_terminos.transform(X_test_binary).toarray()\n",
    "\n",
    "pca_model = PCA(n_components=5)\n",
    "pca_model.fit(X_train_binary_vec)\n",
    "X_train_binary_vec_pca = pca_model.transform(X_train_binary_vec)\n",
    "X_test_binary_vec_pca = pca_model.transform(X_test_binary_vec)"
   ]
  },
  {
   "cell_type": "markdown",
   "metadata": {},
   "source": [
    "#### (f) Entrene y compare al menos 5 de los diferentes clasificadores vistos en clases para clasificación binaria (por ejemplo: Navie Bayes, Multinomial Naive Bayes, LDA, QDA, Regresión logística, SVM y Arboles de decisión) sobre el conjunto de entrenamiento verificando su desempeño sobre ambos conjuntos (entrenamiento y de pruebas), construyendo un gráfico resumen del error de éstos."
   ]
  },
  {
   "cell_type": "markdown",
   "metadata": {},
   "source": [
    "#### Resultado\n",
    "\n",
    "    1. Precision es el porcentaje de elementos designados a una clase que efectivamente pertenecen a ella. \n",
    "    2. Recall es el porcentaje de elementos de una clase que fueron desigandos correctamente en ella. \n",
    "    3. f1-score es el promedio armónico entre ambos valores y es mejor mientras mas cercano sea a 1. Significa que la máquina es capaz de redicir muchisimo los falsos positivos y que a la vez fue capaz de clasificar una gran cantidad de los elementos que pertenecen a esa clase.\n",
    "    4. Support es la cantidad de elemntos en la clase.\n",
    "\n",
    "Dado lo anterior, se observan rendimientos muy parecidos, todos al rededor del 60% exceptuando QDA, mas cercano al 50%, no siendo ninguna máquina sobresaliente en este aspecto."
   ]
  },
  {
   "cell_type": "code",
   "execution_count": 15,
   "metadata": {
    "collapsed": true
   },
   "outputs": [],
   "source": [
    "def compare_models(models, Xtrain, Xtest,ytrain, ytest):\n",
    "    scores = {}\n",
    "    for label, model in models.items():\n",
    "        model.fit(Xtrain, ytrain)\n",
    "        scores[label + \" Train\"] = accuracy_score(ytrain, model.predict(Xtrain))\n",
    "        scores[label + \" Test\"] = accuracy_score(ytest,  model.predict(Xtest))\n",
    "    for label, score in scores.items():\n",
    "        print(\"Score \" + label + \": %f\"%(score))\n",
    "    plt.figure();\n",
    "    dfplot=pd.DataFrame(columns=[\"Models\",\"Miss Classification Loss\"])\n",
    "    dfplot[\"Models\"]=list(scores.keys())\n",
    "    dfplot[\"Classification Score\"]=list(scores.values())\n",
    "    dfplot.sort_values(by='Classification Score',inplace=True)\n",
    "    dfplot.plot(kind='bar',x='Models',y='Classification Score',title=\"Classification Score\",figsize=(10,5))\n",
    "    plt.show()\n",
    "    return scores"
   ]
  },
  {
   "cell_type": "code",
   "execution_count": 16,
   "metadata": {},
   "outputs": [
    {
     "name": "stdout",
     "output_type": "stream",
     "text": [
      "Score B|R. Logística Train: 0.601339\n",
      "Score B|R. Logística Test: 0.585206\n",
      "Score B|QDA Train: 0.563912\n",
      "Score B|QDA Test: 0.564802\n",
      "Score B|LDA Train: 0.595640\n",
      "Score B|LDA Test: 0.581859\n",
      "Score B|DTree|Gini Train: 0.993503\n",
      "Score B|DTree|Gini Test: 0.573729\n",
      "Score B|SVM|Lineal Train: 0.588146\n",
      "Score B|SVM|Lineal Test: 0.573250\n"
     ]
    },
    {
     "data": {
      "text/plain": [
       "<matplotlib.figure.Figure at 0x1a21600d68>"
      ]
     },
     "metadata": {},
     "output_type": "display_data"
    },
    {
     "data": {
      "image/png": "[encoded data removed]",
      "text/plain": [
       "<matplotlib.figure.Figure at 0x1a108f67f0>"
      ]
     },
     "metadata": {},
     "output_type": "display_data"
    }
   ],
   "source": [
    "models_f = {\"B|R. Logística\":LR(), \"B|QDA\" : QDA(), \"B|LDA\":LDA(), \"B|DTree|Gini\" : Tree(criterion='gini',splitter='best'), \"B|SVM|Lineal\" : SVM(kernel='linear')}\n",
    "scores_f = compare_models(models_f, X_train_binary_vec_pca, X_test_binary_vec_pca, y_train_binary, y_test_binary)"
   ]
  },
  {
   "cell_type": "markdown",
   "metadata": {},
   "source": [
    "#### (g) Utilice y explique las métricas que calcula la función classification report de la librería sklearn. En base a las distintas métricas calculadas ¿Cuáles clasificadores son los que mejor se comportan?"
   ]
  },
  {
   "cell_type": "code",
   "execution_count": 17,
   "metadata": {
    "collapsed": true
   },
   "outputs": [],
   "source": [
    "def score_the_model(model,x,y,xt,yt,target):\n",
    "    acc_tr = model.score(x,y)\n",
    "    acc_test = model.score(xt[:-1],yt[:-1])\n",
    "    print(\"Training Accuracy: %f\"%(acc_tr))\n",
    "    print(\"Test Accuracy: %f\"%(acc_test))\n",
    "    print(\"Detailed Analysis Testing Results ...\")\n",
    "    print(classification_report(yt, model.predict(xt), target_names=target))"
   ]
  },
  {
   "cell_type": "code",
   "execution_count": 18,
   "metadata": {
    "scrolled": true
   },
   "outputs": [
    {
     "name": "stdout",
     "output_type": "stream",
     "text": [
      "Training Accuracy: 0.601339\n",
      "Test Accuracy: 0.585140\n",
      "Detailed Analysis Testing Results ...\n",
      "             precision    recall  f1-score   support\n",
      "\n",
      "          +       0.60      0.59      0.60      3251\n",
      "          -       0.57      0.58      0.57      3022\n",
      "\n",
      "avg / total       0.59      0.59      0.59      6273\n",
      "\n",
      "Training Accuracy: 0.563912\n",
      "Test Accuracy: 0.564732\n",
      "Detailed Analysis Testing Results ...\n",
      "             precision    recall  f1-score   support\n",
      "\n",
      "          +       0.55      0.91      0.68      3251\n",
      "          -       0.66      0.20      0.30      3022\n",
      "\n",
      "avg / total       0.60      0.56      0.50      6273\n",
      "\n",
      "Training Accuracy: 0.595640\n",
      "Test Accuracy: 0.581792\n",
      "Detailed Analysis Testing Results ...\n",
      "             precision    recall  f1-score   support\n",
      "\n",
      "          +       0.60      0.57      0.59      3251\n",
      "          -       0.56      0.59      0.58      3022\n",
      "\n",
      "avg / total       0.58      0.58      0.58      6273\n",
      "\n",
      "Training Accuracy: 0.993503\n",
      "Test Accuracy: 0.573661\n",
      "Detailed Analysis Testing Results ...\n",
      "             precision    recall  f1-score   support\n",
      "\n",
      "          +       0.59      0.60      0.59      3251\n",
      "          -       0.56      0.55      0.55      3022\n",
      "\n",
      "avg / total       0.57      0.57      0.57      6273\n",
      "\n",
      "Training Accuracy: 0.588146\n",
      "Test Accuracy: 0.573182\n",
      "Detailed Analysis Testing Results ...\n",
      "             precision    recall  f1-score   support\n",
      "\n",
      "          +       0.60      0.53      0.56      3251\n",
      "          -       0.55      0.62      0.58      3022\n",
      "\n",
      "avg / total       0.58      0.57      0.57      6273\n",
      "\n"
     ]
    }
   ],
   "source": [
    "for label ,model in models_f.items():\n",
    "    score_the_model(model, X_train_binary_vec_pca, y_train_binary, X_test_binary_vec_pca, y_test_binary, ['+','-'])"
   ]
  },
  {
   "cell_type": "markdown",
   "metadata": {},
   "source": [
    "#### (i) Ahora deberá extender el problema a las múltiples clases que tiene presente (las distintas emociones), es decir, su trabajo será el de predecir una de las distintas emociones de cada tweet. Para esto utilice el mismo pre-procesamiento realizado en el punto c) y las características generadas mediante las técnicas en el punto e). Recuerde que tendrá que codificar las distintas clases como valores numéricos enteros."
   ]
  },
  {
   "cell_type": "markdown",
   "metadata": {},
   "source": [
    "#### Observación\n",
    "\n",
    "Nos vimos obligados a reducir el conjunto original debido a que PCA no lograba terminar su ejecución con el conjunto completo.\n",
    "\n",
    "Se realizó el mismo procedimiento de las preguntas c, d y e, diferenciando el mapeo utilizado, el cual funamente fue es que se describe a continuación:\n",
    "\n",
    "    neutral: 0\n",
    "    happiness:  1\n",
    "    love:  2\n",
    "    surprise:  3\n",
    "    fun:  4 \n",
    "    enthusiasm:  5\n",
    "    worry: -1\n",
    "    sadness: -2\n",
    "    relief: -3\n",
    "    hate: -4\n",
    "    empty: -5\n",
    "    boredom: -6\n",
    "    anger: -7"
   ]
  },
  {
   "cell_type": "code",
   "execution_count": 19,
   "metadata": {
    "collapsed": true
   },
   "outputs": [],
   "source": [
    "df_i = pd.read_csv('./text_emotion.csv')\n",
    "df_i = df_i.sample(frac=0.3, replace=True).reset_index(drop=True)\n",
    "df_i['content'] = preprocess(df_i)\n",
    "mappingMc = {\"neutral\": 0, \"happiness\":  1, \"love\":  2, \"surprise\":  3, \"fun\":  4 , \"relief\": 5, \"enthusiasm\":  6, \"worry\": -1, \"sadness\": -2, \"hate\": -3, \"empty\": -4, \"boredom\": -5, \"anger\": -6}\n",
    "df_mc = df_i.replace({'sentiment': mappingMc})\n",
    "Xmc = df_mc['content'].values\n",
    "ymc = df_mc['sentiment'].values\n",
    "X_train_mc, X_test_mc, y_train_mc, y_test_mc = train_test_split(Xmc, ymc,test_size=0.20, random_state=42)\n",
    "frecuencia_terminosMC = TfidfVectorizer(lowercase=True)\n",
    "X_train_mc_vec = frecuencia_terminosMC.fit_transform(X_train_mc).toarray()\n",
    "X_test_mc_vec = frecuencia_terminosMC.transform(X_test_mc).toarray()\n",
    "pca_model = PCA(n_components=5)\n",
    "pca_model.fit(X_train_mc_vec)\n",
    "X_train_mc_vec_pca = pca_model.transform(X_train_mc_vec)\n",
    "X_test_mc_vec_pca = pca_model.transform(X_test_mc_vec)"
   ]
  },
  {
   "cell_type": "markdown",
   "metadata": {
    "collapsed": true
   },
   "source": [
    "#### (j) Utilice los clasificadores que son extendidos por defecto a múltiples clases para detectar emociones en cada tweet, muestre sus desempeños a través del error de pruebas en un gráfico resumen."
   ]
  },
  {
   "cell_type": "markdown",
   "metadata": {},
   "source": [
    "#### Observación\n",
    "\n",
    "Se puede ver que el mejor rendimiento es obtenido por el árbol de clasificación. Luego de el todos los clasificadores obtienen valores bastante homogéneos y bastante malos con f1-score de entre 0.17 y 0.24, diciendo que sin umportar el conjunto, los puntos se estan calificando mal y pocos."
   ]
  },
  {
   "cell_type": "code",
   "execution_count": 20,
   "metadata": {
    "scrolled": true
   },
   "outputs": [
    {
     "name": "stdout",
     "output_type": "stream",
     "text": [
      "Score DTree|Gini Train: 0.986458\n",
      "Score DTree|Gini Test: 0.355417\n",
      "Score R. Logística Train: 0.252083\n",
      "Score R. Logística Test: 0.237917\n",
      "Score KNeighbors Train: 0.481563\n",
      "Score KNeighbors Test: 0.248750\n",
      "Score Bernoulli Train: 0.253958\n",
      "Score Bernoulli Test: 0.247500\n",
      "Score LDA Train: 0.252604\n",
      "Score LDA Test: 0.240833\n"
     ]
    },
    {
     "name": "stderr",
     "output_type": "stream",
     "text": [
      "/Users/nano/anaconda/envs/py36/lib/python3.6/site-packages/sklearn/discriminant_analysis.py:442: UserWarning: The priors do not sum to 1. Renormalizing\n",
      "  UserWarning)\n"
     ]
    },
    {
     "data": {
      "text/plain": [
       "<matplotlib.figure.Figure at 0x1a21b12208>"
      ]
     },
     "metadata": {},
     "output_type": "display_data"
    },
    {
     "data": {
      "image/png": "[encoded data removed]",
      "text/plain": [
       "<matplotlib.figure.Figure at 0x1a21b12da0>"
      ]
     },
     "metadata": {},
     "output_type": "display_data"
    },
    {
     "name": "stdout",
     "output_type": "stream",
     "text": [
      "Training Accuracy: 0.986458\n",
      "Test Accuracy: 0.355565\n",
      "Detailed Analysis Testing Results ...\n",
      "             precision    recall  f1-score   support\n",
      "\n",
      "          0       0.20      0.22      0.21         9\n",
      "          1       0.43      0.23      0.30        13\n",
      "          2       0.28      0.15      0.20        59\n",
      "          3       0.20      0.17      0.18        83\n",
      "          4       0.38      0.40      0.39       341\n",
      "          5       0.40      0.41      0.41       513\n",
      "          6       0.39      0.42      0.41       492\n",
      "         -1       0.34      0.35      0.35       321\n",
      "         -2       0.37      0.33      0.35       212\n",
      "         -3       0.24      0.21      0.22       138\n",
      "         -4       0.19      0.23      0.21        90\n",
      "         -5       0.25      0.28      0.26        83\n",
      "         -6       0.37      0.30      0.33        46\n",
      "\n",
      "avg / total       0.35      0.36      0.35      2400\n",
      "\n",
      "Training Accuracy: 0.252083\n",
      "Test Accuracy: 0.238016\n",
      "Detailed Analysis Testing Results ...\n",
      "             precision    recall  f1-score   support\n",
      "\n",
      "          0       0.00      0.00      0.00         9\n",
      "          1       0.00      0.00      0.00        13\n",
      "          2       0.00      0.00      0.00        59\n",
      "          3       0.00      0.00      0.00        83\n",
      "          4       0.00      0.00      0.00       341\n",
      "          5       0.25      0.34      0.29       513\n",
      "          6       0.22      0.70      0.34       492\n",
      "         -1       0.25      0.07      0.11       321\n",
      "         -2       0.41      0.15      0.22       212\n",
      "         -3       0.00      0.00      0.00       138\n",
      "         -4       0.00      0.00      0.00        90\n",
      "         -5       0.00      0.00      0.00        83\n",
      "         -6       0.00      0.00      0.00        46\n",
      "\n",
      "avg / total       0.17      0.24      0.17      2400\n",
      "\n"
     ]
    },
    {
     "name": "stderr",
     "output_type": "stream",
     "text": [
      "/Users/nano/anaconda/envs/py36/lib/python3.6/site-packages/sklearn/metrics/classification.py:1135: UndefinedMetricWarning: Precision and F-score are ill-defined and being set to 0.0 in labels with no predicted samples.\n",
      "  'precision', 'predicted', average, warn_for)\n"
     ]
    },
    {
     "name": "stdout",
     "output_type": "stream",
     "text": [
      "Training Accuracy: 0.481563\n",
      "Test Accuracy: 0.248854\n",
      "Detailed Analysis Testing Results ...\n",
      "             precision    recall  f1-score   support\n",
      "\n",
      "          0       0.00      0.00      0.00         9\n",
      "          1       0.00      0.00      0.00        13\n",
      "          2       0.08      0.07      0.07        59\n",
      "          3       0.10      0.10      0.10        83\n",
      "          4       0.22      0.29      0.25       341\n",
      "          5       0.30      0.35      0.32       513\n",
      "          6       0.28      0.34      0.31       492\n",
      "         -1       0.25      0.21      0.23       321\n",
      "         -2       0.34      0.25      0.29       212\n",
      "         -3       0.13      0.06      0.08       138\n",
      "         -4       0.05      0.02      0.03        90\n",
      "         -5       0.09      0.04      0.05        83\n",
      "         -6       0.16      0.07      0.09        46\n",
      "\n",
      "avg / total       0.24      0.25      0.24      2400\n",
      "\n",
      "Training Accuracy: 0.253958\n",
      "Test Accuracy: 0.247603\n",
      "Detailed Analysis Testing Results ...\n",
      "             precision    recall  f1-score   support\n",
      "\n",
      "          0       0.00      0.00      0.00         9\n",
      "          1       0.00      0.00      0.00        13\n",
      "          2       0.00      0.00      0.00        59\n",
      "          3       0.00      0.00      0.00        83\n",
      "          4       0.00      0.00      0.00       341\n",
      "          5       0.24      0.40      0.30       513\n",
      "          6       0.24      0.67      0.35       492\n",
      "         -1       0.29      0.08      0.12       321\n",
      "         -2       0.45      0.16      0.24       212\n",
      "         -3       0.00      0.00      0.00       138\n",
      "         -4       0.00      0.00      0.00        90\n",
      "         -5       0.00      0.00      0.00        83\n",
      "         -6       0.00      0.00      0.00        46\n",
      "\n",
      "avg / total       0.18      0.25      0.17      2400\n",
      "\n",
      "Training Accuracy: 0.252604\n",
      "Test Accuracy: 0.240934\n",
      "Detailed Analysis Testing Results ...\n",
      "             precision    recall  f1-score   support\n",
      "\n",
      "          0       0.00      0.00      0.00         9\n",
      "          1       0.00      0.00      0.00        13\n",
      "          2       0.00      0.00      0.00        59\n",
      "          3       0.00      0.00      0.00        83\n",
      "          4       0.24      0.03      0.05       341\n",
      "          5       0.26      0.33      0.29       513\n",
      "          6       0.23      0.69      0.34       492\n",
      "         -1       0.23      0.08      0.12       321\n",
      "         -2       0.32      0.16      0.21       212\n",
      "         -3       0.00      0.00      0.00       138\n",
      "         -4       0.00      0.00      0.00        90\n",
      "         -5       0.00      0.00      0.00        83\n",
      "         -6       0.00      0.00      0.00        46\n",
      "\n",
      "avg / total       0.20      0.24      0.17      2400\n",
      "\n"
     ]
    }
   ],
   "source": [
    "models_mc = {\"DTree|Gini\":Tree(criterion='gini',splitter='best'), \"R. Logística\":LR(), \"KNeighbors\":KNeighborsClassifier(), \"Bernoulli\":BernoulliNB(), \"LDA\":LDA()}\n",
    "scores_mc = compare_models(models_mc, X_train_mc_vec_pca, X_test_mc_vec_pca, y_train_mc, y_test_mc)\n",
    "for label ,model in models_mc.items():\n",
    "    score_the_model(model, X_train_mc_vec_pca, y_train_mc, X_test_mc_vec_pca, y_test_mc, [\"0\",\"1\", \"2\", \"3\", \"4\" , \"5\", \"6\", \"-1\", \"-2\", \"-3\", \"-4\", \"-5\", \"-6\"])"
   ]
  },
  {
   "cell_type": "markdown",
   "metadata": {},
   "source": [
    "#### (k) Utilice clasificadores binarios que pueden ser extendidos a través de otras técnicas, tal como One vs One y One vs All/Rest [14]"
   ]
  },
  {
   "cell_type": "markdown",
   "metadata": {},
   "source": [
    "#### Observación\n",
    "\n",
    "Se usaron los mismos clasificadores de la pregunta anterior con la modificación de los métodos One vs One y One vs All/Rest.\n",
    "\n",
    "No se observaron grandes cambios respecto a los calificadores sin extensión. Los índices de accuracy y f1-score se mantuvieron iguales que en la pregunta anterior.\n",
    "\n",
    "Estos métodos lo que hacen es asignarle un puntaje comparando una clase, por ejemplo 0, con todo el resto del conjunto tomado como \"no cero\". Dado esto uno tendería a pensar que la comparación binaria haría mejorar la accuracy, sin embargo no fue así, quizas por lo homogéneo del rendimiento de la mayoría de los métodos."
   ]
  },
  {
   "cell_type": "code",
   "execution_count": 21,
   "metadata": {
    "scrolled": true
   },
   "outputs": [
    {
     "name": "stdout",
     "output_type": "stream",
     "text": [
      "Score OR|DTree|Gini Train: 0.986458\n",
      "Score OR|DTree|Gini Test: 0.305000\n",
      "Score OR|R. Logística Train: 0.252083\n",
      "Score OR|R. Logística Test: 0.237917\n",
      "Score OR|KNeighbors Train: 0.483229\n",
      "Score OR|KNeighbors Test: 0.240417\n",
      "Score OR|Bernoulli Train: 0.253958\n",
      "Score OR|Bernoulli Test: 0.247500\n",
      "Score OR|LDA Train: 0.252083\n",
      "Score OR|LDA Test: 0.239583\n"
     ]
    },
    {
     "data": {
      "text/plain": [
       "<matplotlib.figure.Figure at 0x1a21af2b00>"
      ]
     },
     "metadata": {},
     "output_type": "display_data"
    },
    {
     "data": {
      "image/png": "[encoded data removed]",
      "text/plain": [
       "<matplotlib.figure.Figure at 0x1a21afb400>"
      ]
     },
     "metadata": {},
     "output_type": "display_data"
    },
    {
     "name": "stdout",
     "output_type": "stream",
     "text": [
      "Training Accuracy: 0.986458\n",
      "Test Accuracy: 0.355565\n",
      "Detailed Analysis Testing Results ...\n",
      "             precision    recall  f1-score   support\n",
      "\n",
      "          0       0.20      0.22      0.21         9\n",
      "          1       0.43      0.23      0.30        13\n",
      "          2       0.28      0.15      0.20        59\n",
      "          3       0.20      0.17      0.18        83\n",
      "          4       0.38      0.40      0.39       341\n",
      "          5       0.40      0.41      0.41       513\n",
      "          6       0.39      0.42      0.41       492\n",
      "         -1       0.34      0.35      0.35       321\n",
      "         -2       0.37      0.33      0.35       212\n",
      "         -3       0.24      0.21      0.22       138\n",
      "         -4       0.19      0.23      0.21        90\n",
      "         -5       0.25      0.28      0.26        83\n",
      "         -6       0.37      0.30      0.33        46\n",
      "\n",
      "avg / total       0.35      0.36      0.35      2400\n",
      "\n",
      "Training Accuracy: 0.252083\n",
      "Test Accuracy: 0.238016\n",
      "Detailed Analysis Testing Results ...\n",
      "             precision    recall  f1-score   support\n",
      "\n",
      "          0       0.00      0.00      0.00         9\n",
      "          1       0.00      0.00      0.00        13\n",
      "          2       0.00      0.00      0.00        59\n",
      "          3       0.00      0.00      0.00        83\n",
      "          4       0.00      0.00      0.00       341\n",
      "          5       0.25      0.34      0.29       513\n",
      "          6       0.22      0.70      0.34       492\n",
      "         -1       0.25      0.07      0.11       321\n",
      "         -2       0.41      0.15      0.22       212\n",
      "         -3       0.00      0.00      0.00       138\n",
      "         -4       0.00      0.00      0.00        90\n",
      "         -5       0.00      0.00      0.00        83\n",
      "         -6       0.00      0.00      0.00        46\n",
      "\n",
      "avg / total       0.17      0.24      0.17      2400\n",
      "\n"
     ]
    },
    {
     "name": "stderr",
     "output_type": "stream",
     "text": [
      "/Users/nano/anaconda/envs/py36/lib/python3.6/site-packages/sklearn/metrics/classification.py:1135: UndefinedMetricWarning: Precision and F-score are ill-defined and being set to 0.0 in labels with no predicted samples.\n",
      "  'precision', 'predicted', average, warn_for)\n"
     ]
    },
    {
     "name": "stdout",
     "output_type": "stream",
     "text": [
      "Training Accuracy: 0.481563\n",
      "Test Accuracy: 0.248854\n",
      "Detailed Analysis Testing Results ...\n",
      "             precision    recall  f1-score   support\n",
      "\n",
      "          0       0.00      0.00      0.00         9\n",
      "          1       0.00      0.00      0.00        13\n",
      "          2       0.08      0.07      0.07        59\n",
      "          3       0.10      0.10      0.10        83\n",
      "          4       0.22      0.29      0.25       341\n",
      "          5       0.30      0.35      0.32       513\n",
      "          6       0.28      0.34      0.31       492\n",
      "         -1       0.25      0.21      0.23       321\n",
      "         -2       0.34      0.25      0.29       212\n",
      "         -3       0.13      0.06      0.08       138\n",
      "         -4       0.05      0.02      0.03        90\n",
      "         -5       0.09      0.04      0.05        83\n",
      "         -6       0.16      0.07      0.09        46\n",
      "\n",
      "avg / total       0.24      0.25      0.24      2400\n",
      "\n",
      "Training Accuracy: 0.253958\n",
      "Test Accuracy: 0.247603\n",
      "Detailed Analysis Testing Results ...\n",
      "             precision    recall  f1-score   support\n",
      "\n",
      "          0       0.00      0.00      0.00         9\n",
      "          1       0.00      0.00      0.00        13\n",
      "          2       0.00      0.00      0.00        59\n",
      "          3       0.00      0.00      0.00        83\n",
      "          4       0.00      0.00      0.00       341\n",
      "          5       0.24      0.40      0.30       513\n",
      "          6       0.24      0.67      0.35       492\n",
      "         -1       0.29      0.08      0.12       321\n",
      "         -2       0.45      0.16      0.24       212\n",
      "         -3       0.00      0.00      0.00       138\n",
      "         -4       0.00      0.00      0.00        90\n",
      "         -5       0.00      0.00      0.00        83\n",
      "         -6       0.00      0.00      0.00        46\n",
      "\n",
      "avg / total       0.18      0.25      0.17      2400\n",
      "\n",
      "Training Accuracy: 0.252604\n",
      "Test Accuracy: 0.240934\n",
      "Detailed Analysis Testing Results ...\n",
      "             precision    recall  f1-score   support\n",
      "\n",
      "          0       0.00      0.00      0.00         9\n",
      "          1       0.00      0.00      0.00        13\n",
      "          2       0.00      0.00      0.00        59\n",
      "          3       0.00      0.00      0.00        83\n",
      "          4       0.24      0.03      0.05       341\n",
      "          5       0.26      0.33      0.29       513\n",
      "          6       0.23      0.69      0.34       492\n",
      "         -1       0.23      0.08      0.12       321\n",
      "         -2       0.32      0.16      0.21       212\n",
      "         -3       0.00      0.00      0.00       138\n",
      "         -4       0.00      0.00      0.00        90\n",
      "         -5       0.00      0.00      0.00        83\n",
      "         -6       0.00      0.00      0.00        46\n",
      "\n",
      "avg / total       0.20      0.24      0.17      2400\n",
      "\n",
      "Score OO|DTree|Gini Train: 0.986458\n",
      "Score OO|DTree|Gini Test: 0.365000\n",
      "Score OO|R. Logística Train: 0.252083\n",
      "Score OO|R. Logística Test: 0.237917\n",
      "Score OO|KNeighbors Train: 0.416250\n",
      "Score OO|KNeighbors Test: 0.255833\n",
      "Score OO|Bernoulli Train: 0.253958\n",
      "Score OO|Bernoulli Test: 0.247500\n",
      "Score OO|LDA Train: 0.252292\n",
      "Score OO|LDA Test: 0.239167\n"
     ]
    },
    {
     "data": {
      "text/plain": [
       "<matplotlib.figure.Figure at 0x1a21a9b550>"
      ]
     },
     "metadata": {},
     "output_type": "display_data"
    },
    {
     "data": {
      "image/png": "[encoded data removed]",
      "text/plain": [
       "<matplotlib.figure.Figure at 0x1a218d7828>"
      ]
     },
     "metadata": {},
     "output_type": "display_data"
    },
    {
     "name": "stdout",
     "output_type": "stream",
     "text": [
      "Training Accuracy: 0.986458\n",
      "Test Accuracy: 0.355565\n",
      "Detailed Analysis Testing Results ...\n",
      "             precision    recall  f1-score   support\n",
      "\n",
      "          0       0.20      0.22      0.21         9\n",
      "          1       0.43      0.23      0.30        13\n",
      "          2       0.28      0.15      0.20        59\n",
      "          3       0.20      0.17      0.18        83\n",
      "          4       0.38      0.40      0.39       341\n",
      "          5       0.40      0.41      0.41       513\n",
      "          6       0.39      0.42      0.41       492\n",
      "         -1       0.34      0.35      0.35       321\n",
      "         -2       0.37      0.33      0.35       212\n",
      "         -3       0.24      0.21      0.22       138\n",
      "         -4       0.19      0.23      0.21        90\n",
      "         -5       0.25      0.28      0.26        83\n",
      "         -6       0.37      0.30      0.33        46\n",
      "\n",
      "avg / total       0.35      0.36      0.35      2400\n",
      "\n",
      "Training Accuracy: 0.252083\n",
      "Test Accuracy: 0.238016\n",
      "Detailed Analysis Testing Results ...\n",
      "             precision    recall  f1-score   support\n",
      "\n",
      "          0       0.00      0.00      0.00         9\n",
      "          1       0.00      0.00      0.00        13\n",
      "          2       0.00      0.00      0.00        59\n",
      "          3       0.00      0.00      0.00        83\n",
      "          4       0.00      0.00      0.00       341\n",
      "          5       0.25      0.34      0.29       513\n",
      "          6       0.22      0.70      0.34       492\n",
      "         -1       0.25      0.07      0.11       321\n",
      "         -2       0.41      0.15      0.22       212\n",
      "         -3       0.00      0.00      0.00       138\n",
      "         -4       0.00      0.00      0.00        90\n",
      "         -5       0.00      0.00      0.00        83\n",
      "         -6       0.00      0.00      0.00        46\n",
      "\n",
      "avg / total       0.17      0.24      0.17      2400\n",
      "\n"
     ]
    },
    {
     "name": "stderr",
     "output_type": "stream",
     "text": [
      "/Users/nano/anaconda/envs/py36/lib/python3.6/site-packages/sklearn/metrics/classification.py:1135: UndefinedMetricWarning: Precision and F-score are ill-defined and being set to 0.0 in labels with no predicted samples.\n",
      "  'precision', 'predicted', average, warn_for)\n"
     ]
    },
    {
     "name": "stdout",
     "output_type": "stream",
     "text": [
      "Training Accuracy: 0.481563\n",
      "Test Accuracy: 0.248854\n",
      "Detailed Analysis Testing Results ...\n",
      "             precision    recall  f1-score   support\n",
      "\n",
      "          0       0.00      0.00      0.00         9\n",
      "          1       0.00      0.00      0.00        13\n",
      "          2       0.08      0.07      0.07        59\n",
      "          3       0.10      0.10      0.10        83\n",
      "          4       0.22      0.29      0.25       341\n",
      "          5       0.30      0.35      0.32       513\n",
      "          6       0.28      0.34      0.31       492\n",
      "         -1       0.25      0.21      0.23       321\n",
      "         -2       0.34      0.25      0.29       212\n",
      "         -3       0.13      0.06      0.08       138\n",
      "         -4       0.05      0.02      0.03        90\n",
      "         -5       0.09      0.04      0.05        83\n",
      "         -6       0.16      0.07      0.09        46\n",
      "\n",
      "avg / total       0.24      0.25      0.24      2400\n",
      "\n",
      "Training Accuracy: 0.253958\n",
      "Test Accuracy: 0.247603\n",
      "Detailed Analysis Testing Results ...\n",
      "             precision    recall  f1-score   support\n",
      "\n",
      "          0       0.00      0.00      0.00         9\n",
      "          1       0.00      0.00      0.00        13\n",
      "          2       0.00      0.00      0.00        59\n",
      "          3       0.00      0.00      0.00        83\n",
      "          4       0.00      0.00      0.00       341\n",
      "          5       0.24      0.40      0.30       513\n",
      "          6       0.24      0.67      0.35       492\n",
      "         -1       0.29      0.08      0.12       321\n",
      "         -2       0.45      0.16      0.24       212\n",
      "         -3       0.00      0.00      0.00       138\n",
      "         -4       0.00      0.00      0.00        90\n",
      "         -5       0.00      0.00      0.00        83\n",
      "         -6       0.00      0.00      0.00        46\n",
      "\n",
      "avg / total       0.18      0.25      0.17      2400\n",
      "\n",
      "Training Accuracy: 0.252604\n",
      "Test Accuracy: 0.240934\n",
      "Detailed Analysis Testing Results ...\n",
      "             precision    recall  f1-score   support\n",
      "\n",
      "          0       0.00      0.00      0.00         9\n",
      "          1       0.00      0.00      0.00        13\n",
      "          2       0.00      0.00      0.00        59\n",
      "          3       0.00      0.00      0.00        83\n",
      "          4       0.24      0.03      0.05       341\n",
      "          5       0.26      0.33      0.29       513\n",
      "          6       0.23      0.69      0.34       492\n",
      "         -1       0.23      0.08      0.12       321\n",
      "         -2       0.32      0.16      0.21       212\n",
      "         -3       0.00      0.00      0.00       138\n",
      "         -4       0.00      0.00      0.00        90\n",
      "         -5       0.00      0.00      0.00        83\n",
      "         -6       0.00      0.00      0.00        46\n",
      "\n",
      "avg / total       0.20      0.24      0.17      2400\n",
      "\n"
     ]
    }
   ],
   "source": [
    "models_ovsr = {\"OR|DTree|Gini\":OneVsRestClassifier(Tree(criterion='gini',splitter='best')), \"OR|R. Logística\":OneVsRestClassifier(LR()), \"OR|KNeighbors\":OneVsRestClassifier(KNeighborsClassifier()), \"OR|Bernoulli\":OneVsRestClassifier(BernoulliNB()), \"OR|LDA\":OneVsRestClassifier(LDA())}\n",
    "scores_ovsr = compare_models(models_ovsr, X_train_mc_vec_pca, X_test_mc_vec_pca, y_train_mc, y_test_mc)\n",
    "for label ,model in models_mc.items():\n",
    "    score_the_model(model, X_train_mc_vec_pca, y_train_mc, X_test_mc_vec_pca, y_test_mc, [\"0\",\"1\", \"2\", \"3\", \"4\" , \"5\", \"6\", \"-1\", \"-2\", \"-3\", \"-4\", \"-5\", \"-6\"])\n",
    "models_ovso = {\"OO|DTree|Gini\":OneVsOneClassifier(Tree(criterion='gini',splitter='best')), \"OO|R. Logística\":OneVsOneClassifier(LR()), \"OO|KNeighbors\":OneVsOneClassifier(KNeighborsClassifier()), \"OO|Bernoulli\":OneVsOneClassifier(BernoulliNB()), \"OO|LDA\":OneVsOneClassifier(LDA())}\n",
    "scores_ovso = compare_models(models_ovso, X_train_mc_vec_pca, X_test_mc_vec_pca, y_train_mc, y_test_mc)\n",
    "for label ,model in models_mc.items():\n",
    "    score_the_model(model, X_train_mc_vec_pca, y_train_mc, X_test_mc_vec_pca, y_test_mc, [\"0\",\"1\", \"2\", \"3\", \"4\" , \"5\", \"6\", \"-1\", \"-2\", \"-3\", \"-4\", \"-5\", \"-6\"])"
   ]
  },
  {
   "cell_type": "markdown",
   "metadata": {},
   "source": [
    "#### (l) Para el caso de la Regresión Logística compare sus dos métodos para ser extendidos a múltiples clases. Uno a través de One vs Rest y otro definiendo que la variable a predecir se distribuye Multinomial."
   ]
  },
  {
   "cell_type": "markdown",
   "metadata": {},
   "source": [
    "#### Respuesta\n",
    "\n",
    "Se observa que en el conjunto de test, OneVsAll tiene un leve peor rendimiento que Multinomial, resultado que se invierte en el conjunto de entrenamiento.\n",
    "\n",
    "Por otro lado, el f1-score de ambos modelos sigue siendo muy malo, de 0.17, implicando que a nivel global y sin importar el conjunto su rendimiento es malo, no siendo una clasificación confiable."
   ]
  },
  {
   "cell_type": "code",
   "execution_count": 22,
   "metadata": {
    "scrolled": true
   },
   "outputs": [
    {
     "name": "stdout",
     "output_type": "stream",
     "text": [
      "Score OVR|R. Logística Train: 0.252083\n",
      "Score OVR|R. Logística Test: 0.237917\n",
      "Score Multinomial|R. Logística Train: 0.250833\n",
      "Score Multinomial|R. Logística Test: 0.238750\n"
     ]
    },
    {
     "data": {
      "text/plain": [
       "<matplotlib.figure.Figure at 0x1a21b354a8>"
      ]
     },
     "metadata": {},
     "output_type": "display_data"
    },
    {
     "data": {
      "image/png": "[encoded data removed]",
      "text/plain": [
       "<matplotlib.figure.Figure at 0x1a21b35a58>"
      ]
     },
     "metadata": {},
     "output_type": "display_data"
    },
    {
     "name": "stdout",
     "output_type": "stream",
     "text": [
      "Training Accuracy: 0.252083\n",
      "Test Accuracy: 0.238016\n",
      "Detailed Analysis Testing Results ...\n",
      "             precision    recall  f1-score   support\n",
      "\n",
      "          0       0.00      0.00      0.00         9\n",
      "          1       0.00      0.00      0.00        13\n",
      "          2       0.00      0.00      0.00        59\n",
      "          3       0.00      0.00      0.00        83\n",
      "          4       0.00      0.00      0.00       341\n",
      "          5       0.25      0.34      0.29       513\n",
      "          6       0.22      0.70      0.34       492\n",
      "         -1       0.25      0.07      0.11       321\n",
      "         -2       0.41      0.15      0.22       212\n",
      "         -3       0.00      0.00      0.00       138\n",
      "         -4       0.00      0.00      0.00        90\n",
      "         -5       0.00      0.00      0.00        83\n",
      "         -6       0.00      0.00      0.00        46\n",
      "\n",
      "avg / total       0.17      0.24      0.17      2400\n",
      "\n",
      "Training Accuracy: 0.250833\n",
      "Test Accuracy: 0.238850\n",
      "Detailed Analysis Testing Results ...\n",
      "             precision    recall  f1-score   support\n",
      "\n",
      "          0       0.00      0.00      0.00         9\n",
      "          1       0.00      0.00      0.00        13\n",
      "          2       0.00      0.00      0.00        59\n",
      "          3       0.00      0.00      0.00        83\n",
      "          4       0.14      0.01      0.01       341\n",
      "          5       0.26      0.34      0.29       513\n",
      "          6       0.22      0.70      0.34       492\n",
      "         -1       0.25      0.08      0.12       321\n",
      "         -2       0.44      0.15      0.22       212\n",
      "         -3       0.00      0.00      0.00       138\n",
      "         -4       0.00      0.00      0.00        90\n",
      "         -5       0.00      0.00      0.00        83\n",
      "         -6       0.00      0.00      0.00        46\n",
      "\n",
      "avg / total       0.19      0.24      0.17      2400\n",
      "\n"
     ]
    },
    {
     "name": "stderr",
     "output_type": "stream",
     "text": [
      "/Users/nano/anaconda/envs/py36/lib/python3.6/site-packages/sklearn/metrics/classification.py:1135: UndefinedMetricWarning: Precision and F-score are ill-defined and being set to 0.0 in labels with no predicted samples.\n",
      "  'precision', 'predicted', average, warn_for)\n"
     ]
    }
   ],
   "source": [
    "models_LR ={\"OVR|R. Logística\":LR(multi_class='ovr', solver=\"newton-cg\"),\"Multinomial|R. Logística\":LR(multi_class='multinomial', solver=\"newton-cg\")}\n",
    "scores_LR = compare_models(models_LR, X_train_mc_vec_pca, X_test_mc_vec_pca, y_train_mc, y_test_mc)\n",
    "for label ,model in models_LR.items():\n",
    "    score_the_model(model, X_train_mc_vec_pca, y_train_mc, X_test_mc_vec_pca, y_test_mc, [\"0\",\"1\", \"2\", \"3\", \"4\" , \"5\", \"6\", \"-1\", \"-2\", \"-3\", \"-4\", \"-5\", \"-6\"])\n",
    "\n"
   ]
  },
  {
   "cell_type": "markdown",
   "metadata": {},
   "source": [
    "#### (m) Compare los resultados entre los clasificadores extendidos por defecto y los binarios que son extendidos mediante otras técnicas, construya una tabla o gráfico resumen. Los clasificadores que mejor se comportan en el caso binario ¿Siguen teniendo ese desempeño en múltiples clases?"
   ]
  },
  {
   "cell_type": "markdown",
   "metadata": {},
   "source": [
    "#### Respuesta\n",
    "\n",
    "Dada la evidencia anterior, se puede observar que ningún método logró un resultado muy sobresaliente. Sin embargo, se puede notar que los métodos que funcionaron mejor con el conjunto de test fueron claramente los árboles, en este caso todos Gini. \n",
    "\n",
    "También se observa algo interesante referente a que en muchos casos se dio que un método en el conjunto de test tuvo, aunque marginal, mejor rendimiento que el de entrenamiento. Es el caso de la regresión logística, bernoulli y LDA. \n",
    "\n",
    "Respondiendo a la pregunta, si se da en segir teniendo el mejor desempeño. Esto see puede ver claramente en el resultado obtenido con los árboles. El que le sigue es regresión logística, y tambíen mantiene su desempeño en múltiples clases.\n",
    "\n",
    "Luego de estos el score se vuelve muy parejo para todos los métodos, por lo tanto no consideramos relevante basarnos en ellos para responder la pregunta.\n",
    "\n",
    "Ahora, cabe preguntarse si todos estos clasificadores mejorarían con un mejor preprocesamiento de los datos, ya que al ser todos muy iguales en su score, se puede suponer que estan siendo afectados por los mismo problemas, siendo la raiz común de todos ellos el preprocesamiento del dataset."
   ]
  },
  {
   "cell_type": "code",
   "execution_count": 23,
   "metadata": {
    "scrolled": false
   },
   "outputs": [
    {
     "name": "stderr",
     "output_type": "stream",
     "text": [
      "/Users/nano/anaconda/envs/py36/lib/python3.6/site-packages/sklearn/discriminant_analysis.py:442: UserWarning: The priors do not sum to 1. Renormalizing\n",
      "  UserWarning)\n"
     ]
    },
    {
     "name": "stdout",
     "output_type": "stream",
     "text": [
      "Score DTree|Gini Train: 0.986458\n",
      "Score DTree|Gini Test: 0.355417\n",
      "Score R. Logística Train: 0.252083\n",
      "Score R. Logística Test: 0.237917\n",
      "Score KNeighbors Train: 0.481563\n",
      "Score KNeighbors Test: 0.248750\n",
      "Score Bernoulli Train: 0.253958\n",
      "Score Bernoulli Test: 0.247500\n",
      "Score LDA Train: 0.252604\n",
      "Score LDA Test: 0.240833\n",
      "Score OR|DTree|Gini Train: 0.986458\n",
      "Score OR|DTree|Gini Test: 0.307500\n",
      "Score OR|R. Logística Train: 0.252083\n",
      "Score OR|R. Logística Test: 0.237917\n",
      "Score OR|KNeighbors Train: 0.483229\n",
      "Score OR|KNeighbors Test: 0.240417\n",
      "Score OR|Bernoulli Train: 0.253958\n",
      "Score OR|Bernoulli Test: 0.247500\n",
      "Score OR|LDA Train: 0.252083\n",
      "Score OR|LDA Test: 0.239583\n",
      "Score OO|DTree|Gini Train: 0.986458\n",
      "Score OO|DTree|Gini Test: 0.365000\n",
      "Score OO|R. Logística Train: 0.252083\n",
      "Score OO|R. Logística Test: 0.237917\n",
      "Score OO|KNeighbors Train: 0.416250\n",
      "Score OO|KNeighbors Test: 0.255833\n",
      "Score OO|Bernoulli Train: 0.253958\n",
      "Score OO|Bernoulli Test: 0.247500\n",
      "Score OO|LDA Train: 0.252292\n",
      "Score OO|LDA Test: 0.239167\n",
      "Score OVR|R. Logística Train: 0.252083\n",
      "Score OVR|R. Logística Test: 0.237917\n",
      "Score Multinomial|R. Logística Train: 0.250833\n",
      "Score Multinomial|R. Logística Test: 0.238750\n"
     ]
    },
    {
     "data": {
      "text/plain": [
       "<matplotlib.figure.Figure at 0x1a21a5bda0>"
      ]
     },
     "metadata": {},
     "output_type": "display_data"
    },
    {
     "data": {
      "image/png": "[encoded data removed]",
      "text/plain": [
       "<matplotlib.figure.Figure at 0x1a140666a0>"
      ]
     },
     "metadata": {},
     "output_type": "display_data"
    },
    {
     "name": "stdout",
     "output_type": "stream",
     "text": [
      "Training Accuracy: 0.986458\n",
      "Test Accuracy: 0.355565\n",
      "Detailed Analysis Testing Results ...\n",
      "             precision    recall  f1-score   support\n",
      "\n",
      "          0       0.25      0.22      0.24         9\n",
      "          1       0.43      0.23      0.30        13\n",
      "          2       0.23      0.15      0.18        59\n",
      "          3       0.22      0.18      0.20        83\n",
      "          4       0.39      0.39      0.39       341\n",
      "          5       0.40      0.40      0.40       513\n",
      "          6       0.38      0.41      0.40       492\n",
      "         -1       0.37      0.36      0.37       321\n",
      "         -2       0.34      0.35      0.34       212\n",
      "         -3       0.27      0.21      0.24       138\n",
      "         -4       0.21      0.26      0.23        90\n",
      "         -5       0.27      0.30      0.29        83\n",
      "         -6       0.27      0.28      0.28        46\n",
      "\n",
      "avg / total       0.35      0.36      0.35      2400\n",
      "\n",
      "Training Accuracy: 0.252083\n",
      "Test Accuracy: 0.238016\n",
      "Detailed Analysis Testing Results ...\n",
      "             precision    recall  f1-score   support\n",
      "\n",
      "          0       0.00      0.00      0.00         9\n",
      "          1       0.00      0.00      0.00        13\n",
      "          2       0.00      0.00      0.00        59\n",
      "          3       0.00      0.00      0.00        83\n",
      "          4       0.00      0.00      0.00       341\n",
      "          5       0.25      0.34      0.29       513\n",
      "          6       0.22      0.70      0.34       492\n",
      "         -1       0.25      0.07      0.11       321\n",
      "         -2       0.41      0.15      0.22       212\n",
      "         -3       0.00      0.00      0.00       138\n",
      "         -4       0.00      0.00      0.00        90\n",
      "         -5       0.00      0.00      0.00        83\n",
      "         -6       0.00      0.00      0.00        46\n",
      "\n",
      "avg / total       0.17      0.24      0.17      2400\n",
      "\n"
     ]
    },
    {
     "name": "stderr",
     "output_type": "stream",
     "text": [
      "/Users/nano/anaconda/envs/py36/lib/python3.6/site-packages/sklearn/metrics/classification.py:1135: UndefinedMetricWarning: Precision and F-score are ill-defined and being set to 0.0 in labels with no predicted samples.\n",
      "  'precision', 'predicted', average, warn_for)\n"
     ]
    },
    {
     "name": "stdout",
     "output_type": "stream",
     "text": [
      "Training Accuracy: 0.481563\n",
      "Test Accuracy: 0.248854\n",
      "Detailed Analysis Testing Results ...\n",
      "             precision    recall  f1-score   support\n",
      "\n",
      "          0       0.00      0.00      0.00         9\n",
      "          1       0.00      0.00      0.00        13\n",
      "          2       0.08      0.07      0.07        59\n",
      "          3       0.10      0.10      0.10        83\n",
      "          4       0.22      0.29      0.25       341\n",
      "          5       0.30      0.35      0.32       513\n",
      "          6       0.28      0.34      0.31       492\n",
      "         -1       0.25      0.21      0.23       321\n",
      "         -2       0.34      0.25      0.29       212\n",
      "         -3       0.13      0.06      0.08       138\n",
      "         -4       0.05      0.02      0.03        90\n",
      "         -5       0.09      0.04      0.05        83\n",
      "         -6       0.16      0.07      0.09        46\n",
      "\n",
      "avg / total       0.24      0.25      0.24      2400\n",
      "\n",
      "Training Accuracy: 0.253958\n",
      "Test Accuracy: 0.247603\n",
      "Detailed Analysis Testing Results ...\n",
      "             precision    recall  f1-score   support\n",
      "\n",
      "          0       0.00      0.00      0.00         9\n",
      "          1       0.00      0.00      0.00        13\n",
      "          2       0.00      0.00      0.00        59\n",
      "          3       0.00      0.00      0.00        83\n",
      "          4       0.00      0.00      0.00       341\n",
      "          5       0.24      0.40      0.30       513\n",
      "          6       0.24      0.67      0.35       492\n",
      "         -1       0.29      0.08      0.12       321\n",
      "         -2       0.45      0.16      0.24       212\n",
      "         -3       0.00      0.00      0.00       138\n",
      "         -4       0.00      0.00      0.00        90\n",
      "         -5       0.00      0.00      0.00        83\n",
      "         -6       0.00      0.00      0.00        46\n",
      "\n",
      "avg / total       0.18      0.25      0.17      2400\n",
      "\n",
      "Training Accuracy: 0.252604\n",
      "Test Accuracy: 0.240934\n",
      "Detailed Analysis Testing Results ...\n",
      "             precision    recall  f1-score   support\n",
      "\n",
      "          0       0.00      0.00      0.00         9\n",
      "          1       0.00      0.00      0.00        13\n",
      "          2       0.00      0.00      0.00        59\n",
      "          3       0.00      0.00      0.00        83\n",
      "          4       0.24      0.03      0.05       341\n",
      "          5       0.26      0.33      0.29       513\n",
      "          6       0.23      0.69      0.34       492\n",
      "         -1       0.23      0.08      0.12       321\n",
      "         -2       0.32      0.16      0.21       212\n",
      "         -3       0.00      0.00      0.00       138\n",
      "         -4       0.00      0.00      0.00        90\n",
      "         -5       0.00      0.00      0.00        83\n",
      "         -6       0.00      0.00      0.00        46\n",
      "\n",
      "avg / total       0.20      0.24      0.17      2400\n",
      "\n",
      "Training Accuracy: 0.986458\n",
      "Test Accuracy: 0.307628\n",
      "Detailed Analysis Testing Results ...\n",
      "             precision    recall  f1-score   support\n",
      "\n",
      "          0       0.22      0.22      0.22         9\n",
      "          1       0.60      0.23      0.33        13\n",
      "          2       0.40      0.14      0.20        59\n",
      "          3       0.31      0.17      0.22        83\n",
      "          4       0.52      0.28      0.36       341\n",
      "          5       0.48      0.32      0.38       513\n",
      "          6       0.47      0.38      0.42       492\n",
      "         -1       0.37      0.31      0.34       321\n",
      "         -2       0.31      0.33      0.32       212\n",
      "         -3       0.25      0.22      0.24       138\n",
      "         -4       0.20      0.24      0.22        90\n",
      "         -5       0.21      0.24      0.22        83\n",
      "         -6       0.04      0.52      0.08        46\n",
      "\n",
      "avg / total       0.40      0.31      0.34      2400\n",
      "\n",
      "Training Accuracy: 0.252083\n",
      "Test Accuracy: 0.238016\n",
      "Detailed Analysis Testing Results ...\n",
      "             precision    recall  f1-score   support\n",
      "\n",
      "          0       0.00      0.00      0.00         9\n",
      "          1       0.00      0.00      0.00        13\n",
      "          2       0.00      0.00      0.00        59\n",
      "          3       0.00      0.00      0.00        83\n",
      "          4       0.00      0.00      0.00       341\n",
      "          5       0.25      0.34      0.29       513\n",
      "          6       0.22      0.70      0.34       492\n",
      "         -1       0.25      0.07      0.11       321\n",
      "         -2       0.41      0.15      0.22       212\n",
      "         -3       0.00      0.00      0.00       138\n",
      "         -4       0.00      0.00      0.00        90\n",
      "         -5       0.00      0.00      0.00        83\n",
      "         -6       0.00      0.00      0.00        46\n",
      "\n",
      "avg / total       0.17      0.24      0.17      2400\n",
      "\n",
      "Training Accuracy: 0.483229\n",
      "Test Accuracy: 0.240517\n",
      "Detailed Analysis Testing Results ...\n",
      "             precision    recall  f1-score   support\n",
      "\n",
      "          0       0.00      0.00      0.00         9\n",
      "          1       0.00      0.00      0.00        13\n",
      "          2       0.00      0.00      0.00        59\n",
      "          3       0.07      0.02      0.04        83\n",
      "          4       0.23      0.16      0.19       341\n",
      "          5       0.33      0.31      0.32       513\n",
      "          6       0.28      0.33      0.31       492\n",
      "         -1       0.22      0.24      0.23       321\n",
      "         -2       0.28      0.36      0.32       212\n",
      "         -3       0.11      0.11      0.11       138\n",
      "         -4       0.10      0.12      0.11        90\n",
      "         -5       0.06      0.08      0.07        83\n",
      "         -6       0.13      0.22      0.17        46\n",
      "\n",
      "avg / total       0.23      0.24      0.23      2400\n",
      "\n",
      "Training Accuracy: 0.253958\n",
      "Test Accuracy: 0.247603\n",
      "Detailed Analysis Testing Results ...\n",
      "             precision    recall  f1-score   support\n",
      "\n",
      "          0       0.00      0.00      0.00         9\n",
      "          1       0.00      0.00      0.00        13\n",
      "          2       0.00      0.00      0.00        59\n",
      "          3       0.00      0.00      0.00        83\n",
      "          4       0.00      0.00      0.00       341\n",
      "          5       0.24      0.40      0.30       513\n",
      "          6       0.24      0.67      0.35       492\n",
      "         -1       0.29      0.08      0.12       321\n",
      "         -2       0.45      0.16      0.24       212\n",
      "         -3       0.00      0.00      0.00       138\n",
      "         -4       0.00      0.00      0.00        90\n",
      "         -5       0.00      0.00      0.00        83\n",
      "         -6       0.00      0.00      0.00        46\n",
      "\n",
      "avg / total       0.18      0.25      0.17      2400\n",
      "\n",
      "Training Accuracy: 0.252083\n",
      "Test Accuracy: 0.239683\n",
      "Detailed Analysis Testing Results ...\n",
      "             precision    recall  f1-score   support\n",
      "\n",
      "          0       0.00      0.00      0.00         9\n",
      "          1       0.00      0.00      0.00        13\n",
      "          2       0.00      0.00      0.00        59\n",
      "          3       0.00      0.00      0.00        83\n",
      "          4       0.19      0.02      0.03       341\n",
      "          5       0.26      0.33      0.29       513\n",
      "          6       0.23      0.69      0.34       492\n",
      "         -1       0.23      0.08      0.12       321\n",
      "         -2       0.33      0.16      0.22       212\n",
      "         -3       0.00      0.00      0.00       138\n",
      "         -4       0.00      0.00      0.00        90\n",
      "         -5       0.00      0.00      0.00        83\n",
      "         -6       0.00      0.00      0.00        46\n",
      "\n",
      "avg / total       0.19      0.24      0.17      2400\n",
      "\n",
      "Training Accuracy: 0.986458\n",
      "Test Accuracy: 0.365152\n",
      "Detailed Analysis Testing Results ...\n",
      "             precision    recall  f1-score   support\n",
      "\n",
      "          0       0.67      0.22      0.33         9\n",
      "          1       1.00      0.23      0.38        13\n",
      "          2       0.67      0.14      0.23        59\n",
      "          3       0.50      0.18      0.27        83\n",
      "          4       0.43      0.36      0.39       341\n",
      "          5       0.39      0.42      0.40       513\n",
      "          6       0.37      0.46      0.41       492\n",
      "         -1       0.30      0.37      0.34       321\n",
      "         -2       0.36      0.39      0.38       212\n",
      "         -3       0.26      0.22      0.24       138\n",
      "         -4       0.21      0.19      0.20        90\n",
      "         -5       0.32      0.23      0.27        83\n",
      "         -6       0.54      0.28      0.37        46\n",
      "\n",
      "avg / total       0.38      0.36      0.36      2400\n",
      "\n",
      "Training Accuracy: 0.252083\n",
      "Test Accuracy: 0.238016\n",
      "Detailed Analysis Testing Results ...\n",
      "             precision    recall  f1-score   support\n",
      "\n",
      "          0       0.00      0.00      0.00         9\n",
      "          1       0.00      0.00      0.00        13\n",
      "          2       0.00      0.00      0.00        59\n",
      "          3       0.00      0.00      0.00        83\n",
      "          4       0.14      0.01      0.01       341\n",
      "          5       0.25      0.33      0.29       513\n",
      "          6       0.22      0.71      0.34       492\n",
      "         -1       0.26      0.07      0.12       321\n",
      "         -2       0.43      0.14      0.21       212\n",
      "         -3       0.00      0.00      0.00       138\n",
      "         -4       0.00      0.00      0.00        90\n",
      "         -5       0.00      0.00      0.00        83\n",
      "         -6       0.00      0.00      0.00        46\n",
      "\n",
      "avg / total       0.19      0.24      0.17      2400\n",
      "\n"
     ]
    },
    {
     "name": "stdout",
     "output_type": "stream",
     "text": [
      "Training Accuracy: 0.416250\n",
      "Test Accuracy: 0.255940\n",
      "Detailed Analysis Testing Results ...\n",
      "             precision    recall  f1-score   support\n",
      "\n",
      "          0       0.00      0.00      0.00         9\n",
      "          1       0.00      0.00      0.00        13\n",
      "          2       0.00      0.00      0.00        59\n",
      "          3       0.10      0.04      0.05        83\n",
      "          4       0.20      0.20      0.20       341\n",
      "          5       0.29      0.37      0.32       513\n",
      "          6       0.27      0.41      0.33       492\n",
      "         -1       0.25      0.25      0.25       321\n",
      "         -2       0.33      0.29      0.31       212\n",
      "         -3       0.11      0.06      0.08       138\n",
      "         -4       0.07      0.04      0.06        90\n",
      "         -5       0.11      0.02      0.04        83\n",
      "         -6       0.10      0.02      0.04        46\n",
      "\n",
      "avg / total       0.23      0.26      0.24      2400\n",
      "\n",
      "Training Accuracy: 0.253958\n",
      "Test Accuracy: 0.247603\n",
      "Detailed Analysis Testing Results ...\n",
      "             precision    recall  f1-score   support\n",
      "\n",
      "          0       0.00      0.00      0.00         9\n",
      "          1       0.00      0.00      0.00        13\n",
      "          2       0.00      0.00      0.00        59\n",
      "          3       0.00      0.00      0.00        83\n",
      "          4       0.00      0.00      0.00       341\n",
      "          5       0.24      0.40      0.30       513\n",
      "          6       0.24      0.67      0.35       492\n",
      "         -1       0.29      0.08      0.12       321\n",
      "         -2       0.45      0.16      0.24       212\n",
      "         -3       0.00      0.00      0.00       138\n",
      "         -4       0.00      0.00      0.00        90\n",
      "         -5       0.00      0.00      0.00        83\n",
      "         -6       0.00      0.00      0.00        46\n",
      "\n",
      "avg / total       0.18      0.25      0.17      2400\n",
      "\n",
      "Training Accuracy: 0.252292\n",
      "Test Accuracy: 0.239266\n",
      "Detailed Analysis Testing Results ...\n",
      "             precision    recall  f1-score   support\n",
      "\n",
      "          0       0.00      0.00      0.00         9\n",
      "          1       0.00      0.00      0.00        13\n",
      "          2       0.00      0.00      0.00        59\n",
      "          3       0.00      0.00      0.00        83\n",
      "          4       0.25      0.01      0.03       341\n",
      "          5       0.26      0.33      0.29       513\n",
      "          6       0.22      0.70      0.34       492\n",
      "         -1       0.24      0.08      0.12       321\n",
      "         -2       0.44      0.14      0.21       212\n",
      "         -3       0.00      0.00      0.00       138\n",
      "         -4       0.00      0.00      0.00        90\n",
      "         -5       0.00      0.00      0.00        83\n",
      "         -6       0.00      0.00      0.00        46\n",
      "\n",
      "avg / total       0.21      0.24      0.17      2400\n",
      "\n",
      "Training Accuracy: 0.252083\n",
      "Test Accuracy: 0.238016\n",
      "Detailed Analysis Testing Results ...\n",
      "             precision    recall  f1-score   support\n",
      "\n",
      "          0       0.00      0.00      0.00         9\n",
      "          1       0.00      0.00      0.00        13\n",
      "          2       0.00      0.00      0.00        59\n",
      "          3       0.00      0.00      0.00        83\n",
      "          4       0.00      0.00      0.00       341\n",
      "          5       0.25      0.34      0.29       513\n",
      "          6       0.22      0.70      0.34       492\n",
      "         -1       0.25      0.07      0.11       321\n",
      "         -2       0.41      0.15      0.22       212\n",
      "         -3       0.00      0.00      0.00       138\n",
      "         -4       0.00      0.00      0.00        90\n",
      "         -5       0.00      0.00      0.00        83\n",
      "         -6       0.00      0.00      0.00        46\n",
      "\n",
      "avg / total       0.17      0.24      0.17      2400\n",
      "\n",
      "Training Accuracy: 0.250833\n",
      "Test Accuracy: 0.238850\n",
      "Detailed Analysis Testing Results ...\n",
      "             precision    recall  f1-score   support\n",
      "\n",
      "          0       0.00      0.00      0.00         9\n",
      "          1       0.00      0.00      0.00        13\n",
      "          2       0.00      0.00      0.00        59\n",
      "          3       0.00      0.00      0.00        83\n",
      "          4       0.14      0.01      0.01       341\n",
      "          5       0.26      0.34      0.29       513\n",
      "          6       0.22      0.70      0.34       492\n",
      "         -1       0.25      0.08      0.12       321\n",
      "         -2       0.44      0.15      0.22       212\n",
      "         -3       0.00      0.00      0.00       138\n",
      "         -4       0.00      0.00      0.00        90\n",
      "         -5       0.00      0.00      0.00        83\n",
      "         -6       0.00      0.00      0.00        46\n",
      "\n",
      "avg / total       0.19      0.24      0.17      2400\n",
      "\n"
     ]
    }
   ],
   "source": [
    "allModels = dict(dict(dict(models_mc, **models_ovsr), **models_ovso), **models_LR)\n",
    "scores_allModels = compare_models(allModels, X_train_mc_vec_pca, X_test_mc_vec_pca, y_train_mc, y_test_mc)\n",
    "for label ,model in allModels.items():\n",
    "    score_the_model(model, X_train_mc_vec_pca, y_train_mc, X_test_mc_vec_pca, y_test_mc, [\"0\",\"1\", \"2\", \"3\", \"4\" , \"5\", \"6\", \"-1\", \"-2\", \"-3\", \"-4\", \"-5\", \"-6\"])\n"
   ]
  }
 ],
 "metadata": {
  "kernelspec": {
   "display_name": "Python 3",
   "language": "python",
   "name": "python3"
  },
  "language_info": {
   "codemirror_mode": {
    "name": "ipython",
    "version": 3
   },
   "file_extension": ".py",
   "mimetype": "text/x-python",
   "name": "python",
   "nbconvert_exporter": "python",
   "pygments_lexer": "ipython3",
   "version": "3.6.3"
  }
 },
 "nbformat": 4,
 "nbformat_minor": 2
}
